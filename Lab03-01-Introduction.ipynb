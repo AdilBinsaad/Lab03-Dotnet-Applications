{
 "cells": [
  {
   "cell_type": "markdown",
   "metadata": {},
   "source": [
    "# Lab 3 Dotnet Application Examples"
   ]
  },
  {
   "cell_type": "markdown",
   "metadata": {},
   "source": [
    "## [Lab 3.1 Console Application](./Lab03-02-Console-Application.ipynb)\n",
    "\n",
    "## [Lab 3.2 Winform application](./Lab03-03-WindowForm-Application.ipynb)\n",
    "\n",
    "## [Lab 3.3 Blazor server app](./Lab03-04-Blazor-Server-Application.ipynb)\n",
    "\n",
    "## [Lab 3.4 Blazor app](./Lab03-05-Blazor-Web-Assembly-Application.ipynb)\n"
   ]
  }
 ],
 "metadata": {
  "kernelspec": {
   "display_name": ".NET (C#)",
   "language": "C#",
   "name": ".net-csharp"
  },
  "polyglot_notebook": {
   "kernelInfo": {
    "defaultKernelName": "csharp",
    "items": [
     {
      "aliases": [],
      "languageName": "csharp",
      "name": "csharp"
     }
    ]
   }
  }
 },
 "nbformat": 4,
 "nbformat_minor": 2
}
