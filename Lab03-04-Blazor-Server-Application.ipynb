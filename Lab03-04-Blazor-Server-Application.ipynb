{
 "cells": [
  {
   "cell_type": "markdown",
   "metadata": {
    "dotnet_interactive": {
     "language": "csharp"
    },
    "polyglot_notebook": {
     "kernelName": "csharp"
    }
   },
   "source": [
    "# Lab 3.3 Blazor Web Server application"
   ]
  },
  {
   "cell_type": "markdown",
   "metadata": {},
   "source": [
    "## 0. Prerequisites\n",
    "\n",
    "### 0.1 ก่อนทำการทดลอง \n",
    "\n",
    "ให้ตรวจสอบให้แน่ใจว่าเครื่องคอมพิวเตอร์ได้ติดตั้งซอฟต์แวร์ต่อไปนี้แล้ว\n",
    "\n",
    "- Visual Studio Code  \n",
    "- ติดตั้ง extension C# Dev Kit บน Visual Studio Code (ใช้สำหรับการสร้าง project) \n",
    "- .NET 8 SDK.\n",
    "\n",
    "### 0.2 ตรวจสอบ Workload ว่าได้ติดตั้งส่วนประกอบต่างๆ ครบหรือยัง\n",
    "\n",
    "- พิมพ์ `dotnet new list blazor` ใน terminal\n",
    "- ตรวจสอบว่ามี  Blazor WebAssembly App Empty หรือ Blazor WebAssembly Standalone App ติดตั้งในระบบ ถ้าไม่มี ให้ติดตั้งให้เรียบร้อย\n",
    "- ค้นหา template โดยใช้คำสั่ง `dotnet new search <ชื่อ template>`\n",
    "- ติดตั้ง template โดยใช้คำสั่ง `dotnet new install <ชื่อ template>`\n",
    "\n",
    "\n"
   ]
  },
  {
   "cell_type": "markdown",
   "metadata": {},
   "source": [
    "## 1. Introduction\n",
    "\n",
    "Blazor Web Server application"
   ]
  },
  {
   "cell_type": "markdown",
   "metadata": {},
   "source": [
    "## 2. Create Application\n",
    "\n",
    "1. เปิด visual studio code \n",
    "\n",
    "2. เปิด terminal โดยใช้เมนู view->terminal หรือกด Ctrl + Shift + ` \n",
    "\n",
    "   2.1 ตรวจสอบว่าเป็น folder ที่จะสร้าง project ไว้ในนั้นจริง ๆ  \n",
    "\n",
    "3. พิมพ์ `dotnet new blazor -n BlazorServer1 -o BlazorServer1` ใน terminal\n",
    "4. พิมพ์คำสั่ง `dir` ใน terminal เพื่อดูว่ามี folder ชื่อ BlazorServer1 ที่ถูกสร้างขึ้นใหม่อยู่แล้วหรือยัง ถ้ายังไม่มี อาจจะเกิดจากการสร้างไม่สมบูรณ์\n",
    "5. พิมพ์คำสั่ง `cd BlazorServer1` เพื่อเปลี่ยน folder  ที่ทำงานไปอยู่ในโปรเจค HelloForm1\n",
    "6. พิมพ์คำสั่ง `dir` ใน terminal เพื่อดูว่ามีไฟล์อะไรบ้าง"
   ]
  },
  {
   "cell_type": "markdown",
   "metadata": {},
   "source": [
    "## 3. Build Application\n",
    "\n",
    "7. พิมพ์คำสั่ง `dotnet build`  ใน terminal เพื่อ build โปรแกรม"
   ]
  },
  {
   "cell_type": "markdown",
   "metadata": {},
   "source": [
    "## 4. Run Application\n",
    "7. พิมพ์คำสั่ง `dotnet watch` ใน terminal เพื่อรันโปรแกรม\n",
    "\n",
    "คำสั่ง dotnet watch ใช้เพื่อรันในโหมด hot reload หมายความว่า เมื่อทำการแก้ไข source code จะมีการ upload  และ refresh ให้โดยอัตโนมัติ\n",
    "\n",
    "8. สังเกตุการเปลี่ยนแปลงและบันทึกหน้าจอ"
   ]
  },
  {
   "cell_type": "markdown",
   "metadata": {},
   "source": [
    "9. ทดลองแก้ไข code โดยการเปิดไฟล์ Home.razor ซึ่งอยู่ในโฟลเดอร์ Component/Pages ให้เป็นดังนี้\n",
    "\n",
    "```razor\n",
    "@page \"/\"\n",
    "\n",
    "<PageTitle>Home</PageTitle>\n",
    "\n",
    "<h1>Hello, world!</h1>\n",
    "\n",
    "Welcome to your new app.\n",
    "<br>\n",
    "สวัสดี\n",
    "```"
   ]
  },
  {
   "cell_type": "markdown",
   "metadata": {},
   "source": [
    "10. บันทึกไฟล์\n",
    "11. สังเกตุการเปลี่ยนแปลงและบันทึกหน้าจอ"
   ]
  }
 ],
 "metadata": {
  "kernelspec": {
   "display_name": ".NET (C#)",
   "language": "C#",
   "name": ".net-csharp"
  },
  "polyglot_notebook": {
   "kernelInfo": {
    "defaultKernelName": "csharp",
    "items": [
     {
      "aliases": [],
      "languageName": "csharp",
      "name": "csharp"
     }
    ]
   }
  }
 },
 "nbformat": 4,
 "nbformat_minor": 2
}
