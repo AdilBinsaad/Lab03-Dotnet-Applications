{
 "cells": [
  {
   "cell_type": "markdown",
   "metadata": {
    "dotnet_interactive": {
     "language": "csharp"
    },
    "polyglot_notebook": {
     "kernelName": "csharp"
    }
   },
   "source": [
    "\n",
    "# Dotnet console application บน visual studio code\n",
    "\n",
    "## ตอนที่ 1 การเตรียมความพร้อม\n",
    "\n",
    "- เปิด visual studio\n",
    "- ตรวจสอบว่าติดตั้ง dotnet workload แล้วหรือยัง\n",
    "\n",
    ">\t`dotnet workload list`\n",
    "\n",
    "- ตรวจสอบว่าติดตั้ง template ที่ต้องใช้แล้วหรือยัง (console)\n",
    "\t\n",
    ">\t`dotnet new list console`\n",
    "\t"
   ]
  },
  {
   "cell_type": "markdown",
   "metadata": {},
   "source": [
    "\n",
    "## ตอนที่ 2 การสร้างโปรเจค\n",
    "\n",
    "- เปืด folder ที่จะสร้าง project\n",
    "\n",
    "- เรียกดูไฟล์ที่อยู่ใน folder ถ้ามีไม่ควรตั้งชื่อโปรเจคซ้ำ\n",
    "\t\n",
    ">\t`dir`\n",
    "\t\n",
    "- สร้างโปรเจค\n",
    " \n",
    ">\t`dotnet new console -n ConsoleApp1` \n",
    "\n",
    "\t`-n = ชื่อโปรเจค`\n",
    "\t\n"
   ]
  },
  {
   "cell_type": "markdown",
   "metadata": {},
   "source": [
    "## ตอนที่ 3 การรันโปรเจค\n",
    "\t\n",
    "-  build โปรเจค\n",
    "\n",
    ">\t`dotnet build`\n",
    "\t\n",
    "- รันโปรเจค\n",
    "\n",
    ">\t`dotnet run`\n",
    "\t\n",
    "\t\n",
    "## Happy learning, Happy coding...."
   ]
  }
 ],
 "metadata": {
  "kernelspec": {
   "display_name": ".NET (C#)",
   "language": "C#",
   "name": ".net-csharp"
  },
  "polyglot_notebook": {
   "kernelInfo": {
    "defaultKernelName": "csharp",
    "items": [
     {
      "aliases": [],
      "languageName": "csharp",
      "name": "csharp"
     }
    ]
   }
  }
 },
 "nbformat": 4,
 "nbformat_minor": 2
}
