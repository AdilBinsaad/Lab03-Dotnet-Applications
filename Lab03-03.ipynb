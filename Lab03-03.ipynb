{
 "cells": [
  {
   "cell_type": "markdown",
   "metadata": {
    "dotnet_interactive": {
     "language": "csharp"
    },
    "polyglot_notebook": {
     "kernelName": "csharp"
    }
   },
   "source": [
    "# Lab 3.2 Windows form Application\n",
    "\n"
   ]
  },
  {
   "cell_type": "markdown",
   "metadata": {},
   "source": [
    "## 0. Prerequisites\n",
    "\n",
    "ก่อนทำการทดลอง ให้ตรวจสอบให้แน่ใจว่าเครื่องคอมพิวเตอร์ได้ติดตั้งซอฟต์แวร์ต่อไปนี้แล้ว\n",
    "\n",
    "- Visual Studio Code พร้อม \n",
    "- extension C# Dev Kit บน Visual Studio Code (ใช้สำหรับการสร้าง project) \n",
    "- .NET 8 SDK."
   ]
  },
  {
   "cell_type": "markdown",
   "metadata": {},
   "source": [
    "## 1. Introduction\n",
    "\n",
    "Windows form Application เป็นเทคโนโลยีที่ใช้มายาวนาน (อาจจะมากกว่า 20 ปี) จึงมี library ด้านกราฟฟิกส์ที่ยึดโยงกับ win32 เป็นอย่างมาก\n",
    "\n",
    "กรณีดังกล่าวจึงเป็นเหตุผลหนึ่งที่ทำให้มีความยากในการออกแบบ windows form บน editor อื่นๆ ที่ไม่ใช่ Visual Studio\n",
    "\n",
    "เพื่อไม่ให้นักศึกษาต้องเรียนรู้การใช้งานเครื่องมือพัฒนาที่หลากหลานและเกินจำเป็น การทดลองในวิชานี้ จะมีขอบเขตอยู่ใน Visual Studio Code เป็นหลัก \n",
    "\n",
    "สำหรับผู้ที่ต้องการสร้าง windows form application ที่ใช้งานจริง ต้องไปเรียนรู้การใช้ visual studio ซึงก็ไม่ยากในการทำความเข้าใจ\n",
    "\n",
    "https://learn.microsoft.com/en-us/dotnet/desktop/winforms/?view=netdesktop-8.0\n"
   ]
  },
  {
   "cell_type": "markdown",
   "metadata": {},
   "source": [
    "## 2. Create Application\n",
    "\n",
    "1. เปิด visual studio code \n",
    "2. เปิด terminal โดยใช้เมนู view->terminal หรือกด Ctrl + Shift + ` \n",
    "\n",
    "   2.1 ตรวจสอบว่าเป็น folder ที่จะสร้าง project ไว้ในนั้นจริง ๆ  \n",
    "\n",
    "3. พิมพ์ `dotnet new winforms -n HelloForm1 -o HelloForm1` ใน terminal\n",
    "4. พิมพ์คำสั่ง `dir` ใน terminal เพื่อดูว่ามี folder ชื่อ HelloForm1 ที่ถูกสร้างขึ้นใหม่อยู่แล้วหรือยัง ถ้ายังไม่มี อาจจะเกิดจากการสร้างไม่สมบูรณ์\n",
    "5. พิมพ์คำสั่ง `cd HelloForm1` เพื่อเปลี่ยน folder  ที่ทำงานไปอยู่ในโปรเจค HelloForm1"
   ]
  },
  {
   "cell_type": "markdown",
   "metadata": {},
   "source": [
    "## 3. Build Application\n",
    "\n",
    "6. พิมพ์คำสั่ง `dotnet build`  เพื่อ build โปรแกรม"
   ]
  },
  {
   "cell_type": "markdown",
   "metadata": {},
   "source": [
    "## 4. Run Application\n",
    "7. พิมพ์คำสั่ง `dotnet run` เพื่อรันโปรแกรม"
   ]
  },
  {
   "cell_type": "markdown",
   "metadata": {},
   "source": [
    "## 5. เพิ่ม Button Control ให้กับ Windows form\n",
    "\n",
    "https://learn.microsoft.com/en-us/dotnet/api/system.windows.forms.button?view=windowsdesktop-9.0\n",
    "\n"
   ]
  }
 ],
 "metadata": {
  "kernelspec": {
   "display_name": ".NET (C#)",
   "language": "C#",
   "name": ".net-csharp"
  },
  "polyglot_notebook": {
   "kernelInfo": {
    "defaultKernelName": "csharp",
    "items": [
     {
      "aliases": [],
      "languageName": "csharp",
      "name": "csharp"
     }
    ]
   }
  }
 },
 "nbformat": 4,
 "nbformat_minor": 2
}
